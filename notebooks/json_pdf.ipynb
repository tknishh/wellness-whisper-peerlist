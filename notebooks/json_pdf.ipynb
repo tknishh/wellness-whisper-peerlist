{
  "nbformat": 4,
  "nbformat_minor": 0,
  "metadata": {
    "colab": {
      "provenance": [],
      "gpuType": "T4"
    },
    "kernelspec": {
      "name": "python3",
      "display_name": "Python 3"
    },
    "language_info": {
      "name": "python"
    },
    "accelerator": "GPU"
  },
  "cells": [
    {
      "cell_type": "code",
      "execution_count": 2,
      "metadata": {
        "colab": {
          "base_uri": "https://localhost:8080/"
        },
        "id": "bkhm7dpvqHHV",
        "outputId": "0f84ac01-a785-4857-fe0a-53ce565c89c6"
      },
      "outputs": [
        {
          "output_type": "stream",
          "name": "stdout",
          "text": [
            "Collecting reportlab\n",
            "  Downloading reportlab-4.0.4-py3-none-any.whl (1.9 MB)\n",
            "\u001b[2K     \u001b[90m━━━━━━━━━━━━━━━━━━━━━━━━━━━━━━━━━━━━━━━━\u001b[0m \u001b[32m1.9/1.9 MB\u001b[0m \u001b[31m10.2 MB/s\u001b[0m eta \u001b[36m0:00:00\u001b[0m\n",
            "\u001b[?25hRequirement already satisfied: pillow>=9.0.0 in /usr/local/lib/python3.10/dist-packages (from reportlab) (9.4.0)\n",
            "Installing collected packages: reportlab\n",
            "Successfully installed reportlab-4.0.4\n",
            "Collecting PyPDF2\n",
            "  Downloading pypdf2-3.0.1-py3-none-any.whl (232 kB)\n",
            "\u001b[2K     \u001b[90m━━━━━━━━━━━━━━━━━━━━━━━━━━━━━━━━━━━━━━━\u001b[0m \u001b[32m232.6/232.6 kB\u001b[0m \u001b[31m4.3 MB/s\u001b[0m eta \u001b[36m0:00:00\u001b[0m\n",
            "\u001b[?25hInstalling collected packages: PyPDF2\n",
            "Successfully installed PyPDF2-3.0.1\n"
          ]
        }
      ],
      "source": [
        "!pip install reportlab\n",
        "!pip install PyPDF2\n"
      ]
    },
    {
      "cell_type": "code",
      "source": [
        "import json\n",
        "from reportlab.lib.pagesizes import letter\n",
        "from reportlab.platypus import SimpleDocTemplate, Paragraph\n",
        "from reportlab.lib.styles import getSampleStyleSheet\n",
        "from PyPDF2 import PdfFileWriter, PdfFileReader\n",
        "\n",
        "# Load JSON data from a file\n",
        "with open('intents.json', 'r') as json_file:\n",
        "    data_dict = json.load(json_file)\n",
        "\n",
        "# Create a PDF file\n",
        "pdf_filename = \"intents.pdf\"\n",
        "doc = SimpleDocTemplate(pdf_filename, pagesize=letter)\n",
        "story = []\n",
        "\n",
        "# Define styles for formatting\n",
        "styles = getSampleStyleSheet()\n",
        "style_normal = styles['Normal']\n",
        "style_heading = styles['Heading1']\n",
        "\n",
        "# Iterate through intents and add content to the PDF\n",
        "for intent in data_dict['intents']:\n",
        "    tag = intent['tag']\n",
        "    patterns = \", \".join(intent['patterns'])\n",
        "    responses = \"\\n\".join(intent['responses'])\n",
        "\n",
        "    story.append(Paragraph(tag, style_heading))\n",
        "    story.append(Paragraph(\"Patterns: \" + patterns, style_normal))\n",
        "    story.append(Paragraph(\"Responses:\", style_normal))\n",
        "    story.append(Paragraph(responses, style_normal))\n",
        "    story.append(Paragraph(\"\\n\", style_normal))\n",
        "\n",
        "# Build the PDF\n",
        "doc.build(story)\n",
        "\n",
        "# Print a message\n",
        "print(f\"PDF created: {pdf_filename}\")"
      ],
      "metadata": {
        "colab": {
          "base_uri": "https://localhost:8080/"
        },
        "id": "1rM8YWS6qTxP",
        "outputId": "7417433f-efce-4b4e-ec82-3b7f0d441f6d"
      },
      "execution_count": 5,
      "outputs": [
        {
          "output_type": "stream",
          "name": "stdout",
          "text": [
            "PDF created: intents.pdf\n"
          ]
        }
      ]
    },
    {
      "cell_type": "code",
      "source": [
        "import json\n",
        "from reportlab.lib.pagesizes import letter\n",
        "from reportlab.platypus import SimpleDocTemplate, Paragraph\n",
        "from reportlab.lib.styles import getSampleStyleSheet\n",
        "from PyPDF2 import PdfFileWriter, PdfFileReader\n",
        "\n",
        "# Load JSON data from a file\n",
        "with open('intents.json', 'r') as json_file:\n",
        "    data_dict = json.load(json_file)\n",
        "\n",
        "# Create a PDF file\n",
        "pdf_filename = \"intents.pdf\"\n",
        "doc = SimpleDocTemplate(pdf_filename, pagesize=letter)\n",
        "story = []\n",
        "\n",
        "# Define styles for formatting\n",
        "styles = getSampleStyleSheet()\n",
        "style_normal = styles['Normal']\n",
        "style_heading = styles['Heading1']\n",
        "\n",
        "# Iterate through intents and add content to the PDF\n",
        "for intent in data_dict['intents']:\n",
        "    tag = intent['tag']\n",
        "    patterns = \", \".join(intent['patterns'])\n",
        "    responses = intent['responses']\n",
        "\n",
        "    story.append(Paragraph(tag, style_heading))\n",
        "    story.append(Paragraph(\"Patterns: \" + patterns, style_normal))\n",
        "    story.append(Paragraph(\"Responses:\", style_normal))\n",
        "\n",
        "    # Enumerate responses and add each number on the next line\n",
        "    for i, response in enumerate(responses, start=1):\n",
        "        story.append(Paragraph(f\"{i}. {response}\", style_normal))\n",
        "\n",
        "    story.append(Paragraph(\"\\n\", style_normal))\n",
        "\n",
        "# Build the PDF\n",
        "doc.build(story)\n",
        "\n",
        "# Print a message\n",
        "print(f\"PDF created: {pdf_filename}\")"
      ],
      "metadata": {
        "colab": {
          "base_uri": "https://localhost:8080/"
        },
        "id": "JHbcQNAWqvaZ",
        "outputId": "4f62dfc6-6435-4144-dead-ece251a6b1af"
      },
      "execution_count": 7,
      "outputs": [
        {
          "output_type": "stream",
          "name": "stdout",
          "text": [
            "PDF created: intents.pdf\n"
          ]
        }
      ]
    },
    {
      "cell_type": "code",
      "source": [
        "import json\n",
        "from reportlab.lib.pagesizes import letter\n",
        "from reportlab.platypus import SimpleDocTemplate, Paragraph\n",
        "from reportlab.lib.styles import getSampleStyleSheet\n",
        "from PyPDF2 import PdfFileWriter, PdfFileReader\n",
        "\n",
        "# Load JSON data from a file\n",
        "with open('intents.json', 'r') as json_file:\n",
        "    data_dict = json.load(json_file)\n",
        "\n",
        "# Create a PDF file\n",
        "pdf_filename = \"intents.pdf\"\n",
        "doc = SimpleDocTemplate(pdf_filename, pagesize=letter)\n",
        "story = []\n",
        "\n",
        "# Define styles for formatting\n",
        "styles = getSampleStyleSheet()\n",
        "style_normal = styles['Normal']\n",
        "style_heading = styles['Heading1']\n",
        "\n",
        "# Iterate through intents and add content to the PDF\n",
        "for intent in data_dict['intents']:\n",
        "    tag = intent['tag']\n",
        "    patterns = intent['patterns']\n",
        "    responses = intent['responses']\n",
        "\n",
        "    story.append(Paragraph(tag, style_heading))\n",
        "\n",
        "    story.append(Paragraph(\"Patterns:\", style_normal))\n",
        "    for i, pattern in enumerate(patterns, 1):\n",
        "        story.append(Paragraph(f\"{i}. {pattern}\", style_normal))\n",
        "\n",
        "    story.append(Paragraph(\"Responses:\", style_normal))\n",
        "    for i, response in enumerate(responses, 1):\n",
        "        story.append(Paragraph(f\"{i}. {response}\", style_normal))\n",
        "\n",
        "    story.append(Paragraph(\"\\n\", style_normal))\n",
        "\n",
        "# Build the PDF\n",
        "doc.build(story)\n",
        "\n",
        "# Print a message\n",
        "print(f\"PDF created: {pdf_filename}\")\n"
      ],
      "metadata": {
        "colab": {
          "base_uri": "https://localhost:8080/"
        },
        "id": "MgGYED5Yqwal",
        "outputId": "b67ff010-49e1-49af-c895-1c6a7648aeef"
      },
      "execution_count": 8,
      "outputs": [
        {
          "output_type": "stream",
          "name": "stdout",
          "text": [
            "PDF created: intents.pdf\n"
          ]
        }
      ]
    }
  ]
}